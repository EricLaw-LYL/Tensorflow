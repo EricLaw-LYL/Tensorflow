{
 "cells": [
  {
   "cell_type": "markdown",
   "metadata": {},
   "source": [
    "# Import Packages"
   ]
  },
  {
   "cell_type": "code",
   "execution_count": 2,
   "metadata": {},
   "outputs": [],
   "source": [
    "import tensorflow as tf\n",
    "from tensorflow import keras\n",
    "from tensorflow.keras import *\n",
    "\n",
    "import os\n",
    "# ignoring infomation from tensorflow\n",
    "os.environ[\"TF_CPP_MIN_LOG_LEVEL\"] = \"2\""
   ]
  },
  {
   "cell_type": "markdown",
   "metadata": {},
   "source": [
    "# Import CIFAR10 Dataset\n",
    "10 different classes of images, e.g. airplane, automobile, etc.  \n",
    "- 50,000 training images\n",
    "- 10,000 test images\n",
    "- 32x32 pixels RGB"
   ]
  },
  {
   "cell_type": "code",
   "execution_count": 3,
   "metadata": {},
   "outputs": [
    {
     "name": "stdout",
     "output_type": "stream",
     "text": [
      "Downloading data from https://www.cs.toronto.edu/~kriz/cifar-10-python.tar.gz\n",
      "170500096/170498071 [==============================] - 13s 0us/step\n",
      "170508288/170498071 [==============================] - 13s 0us/step\n"
     ]
    }
   ],
   "source": [
    "from keras.datasets import cifar10\n",
    "\n",
    "(x_train, y_train), (x_test, y_test) = cifar10.load_data()\n",
    "x_train = x_train.astype(\"float32\") / 255.0\n",
    "x_test = x_test.astype(\"float32\") / 255.0"
   ]
  },
  {
   "cell_type": "markdown",
   "metadata": {},
   "source": [
    "# Sequential Model"
   ]
  },
  {
   "cell_type": "code",
   "execution_count": 7,
   "metadata": {},
   "outputs": [
    {
     "name": "stdout",
     "output_type": "stream",
     "text": [
      "Model: \"sequential_1\"\n",
      "_________________________________________________________________\n",
      " Layer (type)                Output Shape              Param #   \n",
      "=================================================================\n",
      " conv2d_4 (Conv2D)           (None, 30, 30, 32)        896       \n",
      "                                                                 \n",
      " max_pooling2d_3 (MaxPooling  (None, 15, 15, 32)       0         \n",
      " 2D)                                                             \n",
      "                                                                 \n",
      " conv2d_5 (Conv2D)           (None, 13, 13, 64)        18496     \n",
      "                                                                 \n",
      " max_pooling2d_4 (MaxPooling  (None, 6, 6, 64)         0         \n",
      " 2D)                                                             \n",
      "                                                                 \n",
      " conv2d_6 (Conv2D)           (None, 4, 4, 128)         73856     \n",
      "                                                                 \n",
      " flatten_1 (Flatten)         (None, 2048)              0         \n",
      "                                                                 \n",
      " dense_1 (Dense)             (None, 64)                131136    \n",
      "                                                                 \n",
      " dense_2 (Dense)             (None, 10)                650       \n",
      "                                                                 \n",
      "=================================================================\n",
      "Total params: 225,034\n",
      "Trainable params: 225,034\n",
      "Non-trainable params: 0\n",
      "_________________________________________________________________\n",
      "None\n",
      "Epoch 1/10\n",
      "782/782 [==============================] - 58s 72ms/step - loss: 1.7110 - accuracy: 0.3763\n",
      "Epoch 2/10\n",
      "782/782 [==============================] - 52s 67ms/step - loss: 1.3648 - accuracy: 0.5102\n",
      "Epoch 3/10\n",
      "782/782 [==============================] - 61s 78ms/step - loss: 1.2498 - accuracy: 0.5574\n",
      "Epoch 4/10\n",
      "782/782 [==============================] - 60s 77ms/step - loss: 1.1566 - accuracy: 0.59310s - loss: 1.1564 - accuracy: 0.59\n",
      "Epoch 5/10\n",
      "782/782 [==============================] - 60s 76ms/step - loss: 1.0846 - accuracy: 0.6183\n",
      "Epoch 6/10\n",
      "782/782 [==============================] - 61s 78ms/step - loss: 1.0195 - accuracy: 0.6423\n",
      "Epoch 7/10\n",
      "782/782 [==============================] - 59s 75ms/step - loss: 0.9726 - accuracy: 0.6607\n",
      "Epoch 8/10\n",
      "782/782 [==============================] - 66s 84ms/step - loss: 0.9191 - accuracy: 0.6807\n",
      "Epoch 9/10\n",
      "782/782 [==============================] - 70s 89ms/step - loss: 0.8769 - accuracy: 0.69530s - loss: 0.8769 - accuracy: 0.\n",
      "Epoch 10/10\n",
      "782/782 [==============================] - 55s 70ms/step - loss: 0.8404 - accuracy: 0.7081\n",
      "Model evaluation:\n",
      "157/157 [==============================] - 4s 25ms/step - loss: 0.9202 - accuracy: 0.6780\n"
     ]
    },
    {
     "data": {
      "text/plain": [
       "[0.9202350378036499, 0.6779999732971191]"
      ]
     },
     "execution_count": 7,
     "metadata": {},
     "output_type": "execute_result"
    }
   ],
   "source": [
    "model = Sequential(\n",
    "    [\n",
    "        Input(shape = (32, 32, 3)), # 32x32 pixels, 3 channels RGB\n",
    "        layers.Conv2D(32, 3, padding = \"valid\", activation = \"relu\"), # 32 channels output, kernel size = 3\n",
    "        layers.MaxPool2D(pool_size = (2, 2)), \n",
    "        layers.Conv2D(64, 3, activation = \"relu\"), \n",
    "        layers.MaxPool2D(), \n",
    "        layers.Conv2D(128, 3, activation = \"relu\"), \n",
    "        layers.Flatten(), \n",
    "        layers.Dense(64, activation = \"relu\"), \n",
    "        layers.Dense(10, activation = \"softmax\"), \n",
    "    ]\n",
    ")\n",
    "\n",
    "print(model.summary())\n",
    "\n",
    "model.compile(\n",
    "    loss = losses.SparseCategoricalCrossentropy(from_logits = False), \n",
    "    optimizer = optimizers.Adam(lr = 3e-4), \n",
    "    metrics = [\"accuracy\"], \n",
    ")\n",
    "\n",
    "model.fit(x_train, y_train, batch_size = 64, epochs = 10, verbose = 1)\n",
    "\n",
    "print(\"Model evaluation:\")\n",
    "model.evaluate(x_test, y_test, batch_size = 64, verbose = 1)"
   ]
  },
  {
   "cell_type": "markdown",
   "metadata": {},
   "source": [
    "# Adding Regularization with L2 and Dropout"
   ]
  },
  {
   "cell_type": "code",
   "execution_count": 8,
   "metadata": {},
   "outputs": [
    {
     "name": "stdout",
     "output_type": "stream",
     "text": [
      "Model: \"sequential_2\"\n",
      "_________________________________________________________________\n",
      " Layer (type)                Output Shape              Param #   \n",
      "=================================================================\n",
      " conv2d_7 (Conv2D)           (None, 32, 32, 32)        896       \n",
      "                                                                 \n",
      " max_pooling2d_5 (MaxPooling  (None, 16, 16, 32)       0         \n",
      " 2D)                                                             \n",
      "                                                                 \n",
      " conv2d_8 (Conv2D)           (None, 14, 14, 64)        18496     \n",
      "                                                                 \n",
      " max_pooling2d_6 (MaxPooling  (None, 7, 7, 64)         0         \n",
      " 2D)                                                             \n",
      "                                                                 \n",
      " conv2d_9 (Conv2D)           (None, 5, 5, 128)         73856     \n",
      "                                                                 \n",
      " flatten_2 (Flatten)         (None, 3200)              0         \n",
      "                                                                 \n",
      " dense_3 (Dense)             (None, 64)                204864    \n",
      "                                                                 \n",
      " dropout (Dropout)           (None, 64)                0         \n",
      "                                                                 \n",
      " dense_4 (Dense)             (None, 10)                650       \n",
      "                                                                 \n",
      "=================================================================\n",
      "Total params: 298,762\n",
      "Trainable params: 298,762\n",
      "Non-trainable params: 0\n",
      "_________________________________________________________________\n",
      "None\n",
      "Epoch 1/10\n",
      "782/782 [==============================] - 71s 88ms/step - loss: 2.3769 - accuracy: 0.2739\n",
      "Epoch 2/10\n",
      "782/782 [==============================] - 79s 101ms/step - loss: 1.9605 - accuracy: 0.3471\n",
      "Epoch 3/10\n",
      "782/782 [==============================] - 74s 95ms/step - loss: 1.8640 - accuracy: 0.3866\n",
      "Epoch 4/10\n",
      "782/782 [==============================] - 73s 94ms/step - loss: 1.8066 - accuracy: 0.4113\n",
      "Epoch 5/10\n",
      "782/782 [==============================] - 72s 92ms/step - loss: 1.7709 - accuracy: 0.4274\n",
      "Epoch 6/10\n",
      "782/782 [==============================] - 75s 96ms/step - loss: 1.7478 - accuracy: 0.4320\n",
      "Epoch 7/10\n",
      "782/782 [==============================] - 75s 95ms/step - loss: 1.7361 - accuracy: 0.4395\n",
      "Epoch 8/10\n",
      "782/782 [==============================] - 72s 93ms/step - loss: 1.7149 - accuracy: 0.4508\n",
      "Epoch 9/10\n",
      "782/782 [==============================] - 79s 101ms/step - loss: 1.6998 - accuracy: 0.4545\n",
      "Epoch 10/10\n",
      "782/782 [==============================] - 62s 79ms/step - loss: 1.6899 - accuracy: 0.4588\n",
      "Model evaluation:\n",
      "157/157 [==============================] - 4s 23ms/step - loss: 1.5821 - accuracy: 0.5027\n"
     ]
    },
    {
     "data": {
      "text/plain": [
       "[1.5821183919906616, 0.5026999711990356]"
      ]
     },
     "execution_count": 8,
     "metadata": {},
     "output_type": "execute_result"
    }
   ],
   "source": [
    "model = Sequential(\n",
    "    [\n",
    "        Input(shape = (32, 32, 3)), # 32x32 pixels, 3 channels RGB\n",
    "        layers.Conv2D(32, 3, padding = \"same\", activation = \"relu\", kernel_regularizer = regularizers.l2(0.01)), # 32 channels output, kernel size = 3\n",
    "        layers.MaxPool2D(pool_size = (2, 2)), \n",
    "        layers.Conv2D(64, 3, activation = \"relu\", kernel_regularizer = regularizers.l2(0.01)), \n",
    "        layers.MaxPool2D(), \n",
    "        layers.Conv2D(128, 3, activation = \"relu\", kernel_regularizer = regularizers.l2(0.01)), \n",
    "        layers.Flatten(), \n",
    "        layers.Dense(64, activation = \"relu\", kernel_regularizer = regularizers.l2(0.01)), \n",
    "        layers.Dropout(0.5), \n",
    "        layers.Dense(10, activation = \"softmax\"), \n",
    "    ]\n",
    ")\n",
    "\n",
    "print(model.summary())\n",
    "\n",
    "model.compile(\n",
    "    loss = losses.SparseCategoricalCrossentropy(from_logits = False), \n",
    "    optimizer = optimizers.Adam(lr = 3e-4), \n",
    "    metrics = [\"accuracy\"], \n",
    ")\n",
    "\n",
    "model.fit(x_train, y_train, batch_size = 64, epochs = 10, verbose = 1)\n",
    "\n",
    "print(\"Model evaluation:\")\n",
    "model.evaluate(x_test, y_test, batch_size = 64, verbose = 1)"
   ]
  }
 ],
 "metadata": {
  "interpreter": {
   "hash": "f77dbea144dbf12a4aaf4f7749a08bcbe92e498346ff259bf8ae10fb61fcce6e"
  },
  "kernelspec": {
   "display_name": "Python 3.9.7 64-bit ('tf_cpu': conda)",
   "language": "python",
   "name": "python3"
  },
  "language_info": {
   "codemirror_mode": {
    "name": "ipython",
    "version": 3
   },
   "file_extension": ".py",
   "mimetype": "text/x-python",
   "name": "python",
   "nbconvert_exporter": "python",
   "pygments_lexer": "ipython3",
   "version": "3.9.7"
  },
  "orig_nbformat": 4
 },
 "nbformat": 4,
 "nbformat_minor": 2
}
