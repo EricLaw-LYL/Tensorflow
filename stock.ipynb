{
 "cells": [
  {
   "cell_type": "markdown",
   "metadata": {},
   "source": [
    "# Import Libraries"
   ]
  },
  {
   "cell_type": "code",
   "execution_count": 89,
   "metadata": {},
   "outputs": [],
   "source": [
    "import numpy as np\n",
    "import pandas as pd\n",
    "from tqdm import tqdm\n",
    "import yfinance as yf\n",
    "import matplotlib.pyplot as plt\n",
    "\n",
    "import tensorflow as tf\n",
    "from tensorflow import keras\n",
    "from keras import Sequential, layers, losses, optimizers"
   ]
  },
  {
   "cell_type": "markdown",
   "metadata": {},
   "source": [
    "# Get Stock Data from Yahoo Finance"
   ]
  },
  {
   "cell_type": "code",
   "execution_count": 67,
   "metadata": {},
   "outputs": [
    {
     "data": {
      "text/plain": [
       "Date\n",
       "2010-06-29       4.778000\n",
       "2010-06-30       4.766000\n",
       "2010-07-01       4.392000\n",
       "2010-07-02       3.840000\n",
       "2010-07-06       3.222000\n",
       "                 ...     \n",
       "2022-04-08    1025.489990\n",
       "2022-04-11     975.929993\n",
       "2022-04-12     986.950012\n",
       "2022-04-13    1022.369995\n",
       "2022-04-14     987.385010\n",
       "Name: Close, Length: 2971, dtype: float64"
      ]
     },
     "execution_count": 67,
     "metadata": {},
     "output_type": "execute_result"
    }
   ],
   "source": [
    "ticker = yf.Ticker(\"TSLA\")\n",
    "data = ticker.history(period = \"1d\", start = \"2000-01-01\")\n",
    "data = data[\"Close\"]\n",
    "data"
   ]
  },
  {
   "cell_type": "markdown",
   "metadata": {},
   "source": [
    "# Data Processing\n",
    "## Get Sliding Windows"
   ]
  },
  {
   "cell_type": "code",
   "execution_count": 110,
   "metadata": {},
   "outputs": [
    {
     "name": "stderr",
     "output_type": "stream",
     "text": [
      "100%|██████████| 2961/2961 [00:00<00:00, 8931.23it/s]\n"
     ]
    },
    {
     "data": {
      "text/plain": [
       "array([[   4.778,    4.766,    4.392, ...,    3.48 ,    3.41 ,    3.628],\n",
       "       [   4.766,    4.392,    3.84 , ...,    3.41 ,    3.628,    3.968],\n",
       "       [   4.392,    3.84 ,    3.222, ...,    3.628,    3.968,    3.978],\n",
       "       ...,\n",
       "       [1099.57 , 1093.99 , 1077.6  , ..., 1057.26 , 1025.49 ,  975.93 ],\n",
       "       [1093.99 , 1077.6  , 1084.59 , ..., 1025.49 ,  975.93 ,  986.95 ],\n",
       "       [1077.6  , 1084.59 , 1145.45 , ...,  975.93 ,  986.95 , 1022.37 ]],\n",
       "      dtype=float32)"
      ]
     },
     "execution_count": 110,
     "metadata": {},
     "output_type": "execute_result"
    }
   ],
   "source": [
    "window = 10\n",
    "X = []\n",
    "for i in tqdm(np.arange(window, len(data))):\n",
    "    X.append(list(data[i - window: i]))\n",
    "X = np.array(X, dtype = np.float32)\n",
    "\n",
    "X"
   ]
  },
  {
   "cell_type": "markdown",
   "metadata": {},
   "source": [
    "## y"
   ]
  },
  {
   "cell_type": "code",
   "execution_count": 111,
   "metadata": {},
   "outputs": [
    {
     "data": {
      "text/plain": [
       "array([   3.968,    3.978,    4.128, ...,  986.95 , 1022.37 ,  987.385],\n",
       "      dtype=float32)"
      ]
     },
     "execution_count": 111,
     "metadata": {},
     "output_type": "execute_result"
    }
   ],
   "source": [
    "y = np.array(data, dtype = np.float32)[window:]\n",
    "y"
   ]
  },
  {
   "cell_type": "markdown",
   "metadata": {},
   "source": [
    "## Split Train and Test Dataset"
   ]
  },
  {
   "cell_type": "code",
   "execution_count": 112,
   "metadata": {},
   "outputs": [
    {
     "name": "stdout",
     "output_type": "stream",
     "text": [
      "(2709, 10) (252, 10) (2709,) (252,)\n"
     ]
    }
   ],
   "source": [
    "X_train = X[:-252]\n",
    "X_test = X[-252:]\n",
    "\n",
    "y_train = y[:-252]\n",
    "y_test = y[-252:]\n",
    "\n",
    "print(X_train.shape, X_test.shape, y_train.shape, y_test.shape)"
   ]
  },
  {
   "cell_type": "markdown",
   "metadata": {},
   "source": [
    "# Create Model"
   ]
  },
  {
   "cell_type": "code",
   "execution_count": 113,
   "metadata": {},
   "outputs": [
    {
     "name": "stdout",
     "output_type": "stream",
     "text": [
      "Model: \"sequential_10\"\n",
      "_________________________________________________________________\n",
      " Layer (type)                Output Shape              Param #   \n",
      "=================================================================\n",
      " dense_36 (Dense)            (None, 128)               1408      \n",
      "                                                                 \n",
      " dense_37 (Dense)            (None, 128)               16512     \n",
      "                                                                 \n",
      " dense_38 (Dense)            (None, 128)               16512     \n",
      "                                                                 \n",
      " dropout_9 (Dropout)         (None, 128)               0         \n",
      "                                                                 \n",
      " dense_39 (Dense)            (None, 1)                 129       \n",
      "                                                                 \n",
      "=================================================================\n",
      "Total params: 34,561\n",
      "Trainable params: 34,561\n",
      "Non-trainable params: 0\n",
      "_________________________________________________________________\n",
      "None\n"
     ]
    }
   ],
   "source": [
    "model = Sequential([\n",
    "    layers.InputLayer(input_shape = (window)),\n",
    "    layers.Dense(128, activation = \"relu\"),\n",
    "    layers.Dense(128, activation = \"relu\"),\n",
    "    layers.Dense(128, activation = \"relu\"),\n",
    "    layers.Dropout(0.2),\n",
    "    layers.Dense(1, activation = \"relu\")\n",
    "])\n",
    "\n",
    "print(model.summary())\n",
    "\n",
    "model.compile(\n",
    "    loss = losses.MeanSquaredError(),\n",
    "    optimizer = tf.keras.optimizers.Adam(learning_rate = 1e-3),\n",
    ")"
   ]
  },
  {
   "cell_type": "markdown",
   "metadata": {},
   "source": [
    "# Train the Modle"
   ]
  },
  {
   "cell_type": "code",
   "execution_count": 114,
   "metadata": {},
   "outputs": [
    {
     "name": "stdout",
     "output_type": "stream",
     "text": [
      "Epoch 1/100\n",
      "85/85 [==============================] - 1s 4ms/step - loss: 1338.3330 - val_loss: 7060.2930\n",
      "Epoch 2/100\n",
      "85/85 [==============================] - 0s 4ms/step - loss: 514.9675 - val_loss: 3146.6548\n",
      "Epoch 3/100\n",
      "85/85 [==============================] - 0s 3ms/step - loss: 351.2722 - val_loss: 2023.9604\n",
      "Epoch 4/100\n",
      "85/85 [==============================] - 0s 3ms/step - loss: 403.6927 - val_loss: 6389.2827\n",
      "Epoch 5/100\n",
      "85/85 [==============================] - 0s 3ms/step - loss: 369.0488 - val_loss: 1850.3751\n",
      "Epoch 6/100\n",
      "85/85 [==============================] - 0s 2ms/step - loss: 344.3450 - val_loss: 2281.9365\n",
      "Epoch 7/100\n",
      "85/85 [==============================] - 0s 3ms/step - loss: 373.9839 - val_loss: 1578.2019\n",
      "Epoch 8/100\n",
      "85/85 [==============================] - 0s 3ms/step - loss: 518.5601 - val_loss: 1710.9248\n",
      "Epoch 9/100\n",
      "85/85 [==============================] - 0s 5ms/step - loss: 415.4766 - val_loss: 1997.7860\n",
      "Epoch 10/100\n",
      "85/85 [==============================] - 0s 4ms/step - loss: 345.9390 - val_loss: 1651.4263\n",
      "Epoch 11/100\n",
      "85/85 [==============================] - 0s 5ms/step - loss: 315.0555 - val_loss: 3393.3110\n",
      "Epoch 12/100\n",
      "85/85 [==============================] - 0s 5ms/step - loss: 341.5220 - val_loss: 2400.8232\n",
      "Epoch 13/100\n",
      "85/85 [==============================] - 0s 5ms/step - loss: 379.2120 - val_loss: 10596.1094\n",
      "Epoch 14/100\n",
      "85/85 [==============================] - 0s 4ms/step - loss: 393.7638 - val_loss: 5299.2583\n",
      "Epoch 15/100\n",
      "85/85 [==============================] - 0s 4ms/step - loss: 325.6396 - val_loss: 1329.3462\n",
      "Epoch 16/100\n",
      "85/85 [==============================] - 0s 4ms/step - loss: 339.6667 - val_loss: 3138.4023\n",
      "Epoch 17/100\n",
      "85/85 [==============================] - 0s 5ms/step - loss: 340.2425 - val_loss: 1267.4694\n",
      "Epoch 18/100\n",
      "85/85 [==============================] - 0s 5ms/step - loss: 321.5455 - val_loss: 1872.4978\n",
      "Epoch 19/100\n",
      "85/85 [==============================] - 0s 4ms/step - loss: 290.5311 - val_loss: 1432.1830\n",
      "Epoch 20/100\n",
      "85/85 [==============================] - 0s 5ms/step - loss: 253.2312 - val_loss: 2754.8206\n",
      "Epoch 21/100\n",
      "85/85 [==============================] - 0s 4ms/step - loss: 324.5129 - val_loss: 4579.6162\n",
      "Epoch 22/100\n",
      "85/85 [==============================] - 0s 4ms/step - loss: 271.9125 - val_loss: 2332.2522\n",
      "Epoch 23/100\n",
      "85/85 [==============================] - 0s 4ms/step - loss: 384.2151 - val_loss: 2530.4126\n",
      "Epoch 24/100\n",
      "85/85 [==============================] - 0s 4ms/step - loss: 231.2047 - val_loss: 1461.9940\n",
      "Epoch 25/100\n",
      "85/85 [==============================] - 0s 4ms/step - loss: 322.5756 - val_loss: 1724.5552\n",
      "Epoch 26/100\n",
      "85/85 [==============================] - 0s 4ms/step - loss: 342.8782 - val_loss: 4742.0737\n",
      "Epoch 27/100\n",
      "85/85 [==============================] - 0s 4ms/step - loss: 389.7867 - val_loss: 1315.0979\n",
      "Epoch 28/100\n",
      "85/85 [==============================] - 1s 6ms/step - loss: 231.0220 - val_loss: 8314.0293\n",
      "Epoch 29/100\n",
      "85/85 [==============================] - 0s 4ms/step - loss: 329.5299 - val_loss: 1263.9575\n",
      "Epoch 30/100\n",
      "85/85 [==============================] - 0s 4ms/step - loss: 277.0730 - val_loss: 1396.6287\n",
      "Epoch 31/100\n",
      "85/85 [==============================] - 0s 3ms/step - loss: 281.8399 - val_loss: 1984.8009\n",
      "Epoch 32/100\n",
      "85/85 [==============================] - 0s 3ms/step - loss: 257.3095 - val_loss: 1373.9985\n",
      "Epoch 33/100\n",
      "85/85 [==============================] - 0s 3ms/step - loss: 250.1926 - val_loss: 1936.7557\n",
      "Epoch 34/100\n",
      "85/85 [==============================] - 0s 3ms/step - loss: 290.1303 - val_loss: 1336.0176\n",
      "Epoch 35/100\n",
      "85/85 [==============================] - 0s 3ms/step - loss: 267.8666 - val_loss: 1626.9702\n",
      "Epoch 36/100\n",
      "85/85 [==============================] - 0s 3ms/step - loss: 286.1729 - val_loss: 2583.1763\n",
      "Epoch 37/100\n",
      "85/85 [==============================] - 0s 3ms/step - loss: 336.1966 - val_loss: 4182.4204\n",
      "Epoch 38/100\n",
      "85/85 [==============================] - 0s 3ms/step - loss: 296.7900 - val_loss: 2009.5624\n",
      "Epoch 39/100\n",
      "85/85 [==============================] - 0s 3ms/step - loss: 287.1689 - val_loss: 3390.4031\n",
      "Epoch 40/100\n",
      "85/85 [==============================] - 0s 3ms/step - loss: 327.6748 - val_loss: 1452.8387\n",
      "Epoch 41/100\n",
      "85/85 [==============================] - 0s 3ms/step - loss: 298.0092 - val_loss: 1258.3755\n",
      "Epoch 42/100\n",
      "85/85 [==============================] - 0s 3ms/step - loss: 289.8588 - val_loss: 11289.4629\n",
      "Epoch 43/100\n",
      "85/85 [==============================] - 0s 3ms/step - loss: 248.8071 - val_loss: 3295.7769\n",
      "Epoch 44/100\n",
      "85/85 [==============================] - 0s 3ms/step - loss: 241.2045 - val_loss: 3904.1560\n",
      "Epoch 45/100\n",
      "85/85 [==============================] - 0s 3ms/step - loss: 367.4344 - val_loss: 3336.7209\n",
      "Epoch 46/100\n",
      "85/85 [==============================] - 0s 3ms/step - loss: 246.8013 - val_loss: 1592.3466\n",
      "Epoch 47/100\n",
      "85/85 [==============================] - 0s 3ms/step - loss: 315.3414 - val_loss: 7170.1880\n",
      "Epoch 48/100\n",
      "85/85 [==============================] - 0s 3ms/step - loss: 295.7780 - val_loss: 1367.0469\n",
      "Epoch 49/100\n",
      "85/85 [==============================] - 0s 3ms/step - loss: 297.7845 - val_loss: 13482.0869\n",
      "Epoch 50/100\n",
      "85/85 [==============================] - 0s 3ms/step - loss: 379.1256 - val_loss: 2480.9646\n",
      "Epoch 51/100\n",
      "85/85 [==============================] - 0s 3ms/step - loss: 239.6379 - val_loss: 1378.0536\n",
      "Epoch 52/100\n",
      "85/85 [==============================] - 0s 3ms/step - loss: 379.5883 - val_loss: 1442.2900\n",
      "Epoch 53/100\n",
      "85/85 [==============================] - 0s 3ms/step - loss: 222.9759 - val_loss: 2139.9514\n",
      "Epoch 54/100\n",
      "85/85 [==============================] - 0s 3ms/step - loss: 322.6928 - val_loss: 1750.4968\n",
      "Epoch 55/100\n",
      "85/85 [==============================] - 0s 3ms/step - loss: 340.9190 - val_loss: 2847.2349\n",
      "Epoch 56/100\n",
      "85/85 [==============================] - 0s 3ms/step - loss: 328.7486 - val_loss: 3114.3989\n",
      "Epoch 57/100\n",
      "85/85 [==============================] - 0s 3ms/step - loss: 266.1754 - val_loss: 2948.6824\n",
      "Epoch 58/100\n",
      "85/85 [==============================] - 0s 3ms/step - loss: 230.9522 - val_loss: 2711.1633\n",
      "Epoch 59/100\n",
      "85/85 [==============================] - 0s 4ms/step - loss: 265.8907 - val_loss: 3287.3950\n",
      "Epoch 60/100\n",
      "85/85 [==============================] - 0s 3ms/step - loss: 386.2444 - val_loss: 10867.0068\n",
      "Epoch 61/100\n",
      "85/85 [==============================] - 0s 3ms/step - loss: 308.6454 - val_loss: 1496.6411\n",
      "Epoch 62/100\n",
      "85/85 [==============================] - 0s 3ms/step - loss: 246.3955 - val_loss: 1504.0791\n",
      "Epoch 63/100\n",
      "85/85 [==============================] - 0s 3ms/step - loss: 347.4824 - val_loss: 8290.5693\n",
      "Epoch 64/100\n",
      "85/85 [==============================] - 0s 3ms/step - loss: 280.9198 - val_loss: 1438.4872\n",
      "Epoch 65/100\n",
      "85/85 [==============================] - 0s 3ms/step - loss: 240.9448 - val_loss: 1257.4587\n",
      "Epoch 66/100\n",
      "85/85 [==============================] - 0s 4ms/step - loss: 305.5425 - val_loss: 2394.2524\n",
      "Epoch 67/100\n",
      "85/85 [==============================] - 0s 3ms/step - loss: 253.9325 - val_loss: 7254.3975\n",
      "Epoch 68/100\n",
      "85/85 [==============================] - 0s 3ms/step - loss: 315.5711 - val_loss: 1429.6292\n",
      "Epoch 69/100\n",
      "85/85 [==============================] - 0s 4ms/step - loss: 298.6558 - val_loss: 1576.7714\n",
      "Epoch 70/100\n",
      "85/85 [==============================] - 0s 5ms/step - loss: 248.5883 - val_loss: 3200.3335\n",
      "Epoch 71/100\n",
      "85/85 [==============================] - 1s 9ms/step - loss: 374.0371 - val_loss: 1458.1678\n",
      "Epoch 72/100\n",
      "85/85 [==============================] - 0s 5ms/step - loss: 291.9576 - val_loss: 5093.1636\n",
      "Epoch 73/100\n",
      "85/85 [==============================] - 0s 5ms/step - loss: 260.1628 - val_loss: 13508.2373\n",
      "Epoch 74/100\n",
      "85/85 [==============================] - 0s 5ms/step - loss: 299.5608 - val_loss: 1855.6565\n",
      "Epoch 75/100\n",
      "85/85 [==============================] - ETA: 0s - loss: 249.055 - 0s 5ms/step - loss: 243.9652 - val_loss: 2171.4631\n",
      "Epoch 76/100\n",
      "85/85 [==============================] - 0s 5ms/step - loss: 243.6852 - val_loss: 2669.1782\n",
      "Epoch 77/100\n",
      "85/85 [==============================] - 0s 5ms/step - loss: 320.7838 - val_loss: 1261.5247\n",
      "Epoch 78/100\n",
      "85/85 [==============================] - 0s 5ms/step - loss: 279.7486 - val_loss: 4303.5005\n",
      "Epoch 79/100\n",
      "85/85 [==============================] - 1s 7ms/step - loss: 223.9527 - val_loss: 1298.0365\n",
      "Epoch 80/100\n",
      "85/85 [==============================] - 0s 4ms/step - loss: 257.5660 - val_loss: 1664.9950\n",
      "Epoch 81/100\n",
      "85/85 [==============================] - 0s 4ms/step - loss: 249.7708 - val_loss: 2210.0518\n",
      "Epoch 82/100\n",
      "85/85 [==============================] - 0s 4ms/step - loss: 263.6588 - val_loss: 3832.6194\n",
      "Epoch 83/100\n",
      "85/85 [==============================] - 0s 4ms/step - loss: 272.9041 - val_loss: 1894.8329\n",
      "Epoch 84/100\n",
      "85/85 [==============================] - 0s 5ms/step - loss: 250.3636 - val_loss: 3445.4067\n",
      "Epoch 85/100\n",
      "85/85 [==============================] - 1s 6ms/step - loss: 223.9349 - val_loss: 1346.2563\n",
      "Epoch 86/100\n",
      "85/85 [==============================] - 0s 4ms/step - loss: 273.3149 - val_loss: 1257.1099\n",
      "Epoch 87/100\n",
      "85/85 [==============================] - 0s 4ms/step - loss: 226.2560 - val_loss: 1214.3363\n",
      "Epoch 88/100\n",
      "85/85 [==============================] - 0s 5ms/step - loss: 284.6026 - val_loss: 6466.0493\n",
      "Epoch 89/100\n",
      "85/85 [==============================] - 0s 4ms/step - loss: 290.9621 - val_loss: 1927.5665\n",
      "Epoch 90/100\n",
      "85/85 [==============================] - 0s 4ms/step - loss: 248.8869 - val_loss: 2701.8875\n",
      "Epoch 91/100\n",
      "85/85 [==============================] - 1s 6ms/step - loss: 280.7779 - val_loss: 1236.5077\n",
      "Epoch 92/100\n",
      "85/85 [==============================] - 1s 6ms/step - loss: 223.8349 - val_loss: 8955.9141\n",
      "Epoch 93/100\n",
      "85/85 [==============================] - 0s 5ms/step - loss: 238.9233 - val_loss: 1191.2473\n",
      "Epoch 94/100\n",
      "85/85 [==============================] - 0s 4ms/step - loss: 259.3004 - val_loss: 1338.3390\n",
      "Epoch 95/100\n",
      "85/85 [==============================] - 0s 5ms/step - loss: 201.5119 - val_loss: 1189.6213\n",
      "Epoch 96/100\n",
      "85/85 [==============================] - 0s 4ms/step - loss: 260.8794 - val_loss: 2617.3616\n",
      "Epoch 97/100\n",
      "85/85 [==============================] - 0s 4ms/step - loss: 331.3508 - val_loss: 1286.3695\n",
      "Epoch 98/100\n",
      "85/85 [==============================] - 0s 4ms/step - loss: 320.5096 - val_loss: 6344.5298\n",
      "Epoch 99/100\n",
      "85/85 [==============================] - 0s 4ms/step - loss: 304.1201 - val_loss: 2551.1785\n",
      "Epoch 100/100\n",
      "85/85 [==============================] - 0s 4ms/step - loss: 230.7309 - val_loss: 1893.3909\n"
     ]
    }
   ],
   "source": [
    "history = model.fit(\n",
    "    X_train, y_train,\n",
    "    epochs = 100, batch_size = 32, verbose = 1,\n",
    "    validation_data = (X_test, y_test)\n",
    ")"
   ]
  },
  {
   "cell_type": "markdown",
   "metadata": {},
   "source": [
    "# Model Evaluation"
   ]
  },
  {
   "cell_type": "code",
   "execution_count": 115,
   "metadata": {},
   "outputs": [
    {
     "name": "stdout",
     "output_type": "stream",
     "text": [
      "8/8 [==============================] - 0s 2ms/step\n"
     ]
    },
    {
     "data": {
      "text/plain": [
       "array([ 719.28143,  695.1167 ,  697.27295,  712.2652 ,  704.4715 ,\n",
       "        706.82135,  710.1778 ,  691.35455,  681.25555,  667.0291 ,\n",
       "        678.19934,  672.21674,  661.9218 ,  658.5733 ,  645.62714,\n",
       "        648.9554 ,  628.228  ,  615.5761 ,  595.53345,  575.2862 ,\n",
       "        579.52795,  571.39874,  569.9089 ,  557.59515,  559.95593,\n",
       "        560.2866 ,  572.6869 ,  584.50476,  592.88104,  605.4094 ,\n",
       "        604.237  ,  605.3253 ,  594.79767,  570.2933 ,  575.87946,\n",
       "        581.4891 ,  584.36536,  583.7459 ,  585.71985,  586.4472 ,\n",
       "        590.4672 ,  585.3863 ,  586.53284,  592.50366,  596.7097 ,\n",
       "        600.93976,  604.012  ,  623.1894 ,  644.91986,  648.8581 ,\n",
       "        664.3907 ,  662.71906,  657.15485,  658.2297 ,  657.71875,\n",
       "        648.0527 ,  633.74133,  633.5821 ,  634.3466 ,  649.6794 ,\n",
       "        650.14923,  637.92377,  632.81494,  622.67236,  625.1938 ,\n",
       "        634.32245,  634.9636 ,  631.034  ,  623.6431 ,  628.9631 ,\n",
       "        625.27484,  624.7105 ,  646.0424 ,  657.0504 ,  675.62897,\n",
       "        685.98236,  687.18646,  691.62335,  680.3338 ,  688.1603 ,\n",
       "        690.09326,  685.4827 ,  696.3073 ,  693.2424 ,  675.5649 ,\n",
       "        658.3325 ,  662.14404,  657.6235 ,  659.43005,  675.8608 ,\n",
       "        680.00885,  683.6114 ,  680.11957,  684.5827 ,  699.84143,\n",
       "        705.895  ,  712.44977,  712.4716 ,  709.1194 ,  720.0744 ,\n",
       "        726.3191 ,  730.86615,  721.6713 ,  717.5033 ,  718.3581 ,\n",
       "        724.46533,  731.985  ,  734.44586,  716.6937 ,  712.9567 ,\n",
       "        720.8707 ,  724.23065,  742.3035 ,  758.85284,  754.1275 ,\n",
       "        755.17523,  751.34564,  749.6893 ,  754.88666,  755.1426 ,\n",
       "        757.9886 ,  763.9382 ,  759.7288 ,  763.5974 ,  773.79474,\n",
       "        779.8609 ,  788.4797 ,  806.52606,  829.71375,  835.3625 ,\n",
       "        838.51263,  857.6584 ,  871.6856 ,  950.13715,  981.50793,\n",
       "        999.23334, 1037.8275 , 1057.037  , 1134.8342 , 1146.874  ,\n",
       "       1171.7982 , 1197.3777 , 1179.7482 , 1154.1993 , 1059.1887 ,\n",
       "       1054.3074 , 1046.5167 , 1033.7592 , 1025.3352 , 1022.04517,\n",
       "       1037.1355 , 1039.6147 , 1078.7103 , 1112.5442 , 1083.979  ,\n",
       "       1080.903  , 1061.002  , 1082.4553 , 1103.3374 , 1074.2382 ,\n",
       "       1065.2327 , 1015.733  ,  997.1003 , 1011.5806 , 1026.4653 ,\n",
       "       1006.2636 ,  991.59503,  960.0598 ,  939.11053,  946.4736 ,\n",
       "        924.0569 ,  921.4692 ,  894.6489 ,  901.2465 ,  945.0612 ,\n",
       "        995.8453 , 1045.0769 , 1055.5293 , 1051.7168 , 1042.2737 ,\n",
       "       1027.7542 , 1118.959  , 1124.7805 , 1080.4736 , 1059.5867 ,\n",
       "       1008.3117 , 1020.4584 , 1028.4375 , 1058.8961 , 1030.5532 ,\n",
       "       1012.8938 , 1002.7769 ,  975.4847 ,  977.94476,  945.64343,\n",
       "        930.78674,  912.1211 ,  912.07855,  865.33514,  844.11224,\n",
       "        879.4309 ,  885.1108 ,  885.05896,  876.2486 ,  879.7061 ,\n",
       "        872.2607 ,  879.34845,  905.92535,  887.3825 ,  853.9834 ,\n",
       "        847.58734,  871.5704 ,  884.7787 ,  866.373  ,  846.2886 ,\n",
       "        815.87897,  776.7681 ,  782.72797,  791.07574,  821.0357 ,\n",
       "        832.80286,  839.4421 ,  825.32635,  807.29376,  790.4223 ,\n",
       "        793.166  ,  820.6684 ,  815.3753 ,  793.32526,  763.5782 ,\n",
       "        767.0716 ,  790.0048 ,  823.2394 ,  866.11206,  884.56354,\n",
       "        930.32294,  956.4939 ,  976.05225,  990.557  , 1031.8987 ,\n",
       "       1059.8395 , 1063.2131 , 1061.2837 , 1053.7534 , 1085.2219 ,\n",
       "       1068.7627 , 1036.3582 , 1035.303  , 1005.03174,  979.1744 ,\n",
       "        972.282  ,  986.44574], dtype=float32)"
      ]
     },
     "execution_count": 115,
     "metadata": {},
     "output_type": "execute_result"
    }
   ],
   "source": [
    "pred = model.predict(X_test, verbose = 1)\n",
    "pred = pred.reshape(-1)\n",
    "pred"
   ]
  },
  {
   "cell_type": "code",
   "execution_count": 118,
   "metadata": {},
   "outputs": [
    {
     "data": {
      "image/png": "[encoded data removed]",
      "text/plain": [
       "<Figure size 1008x576 with 1 Axes>"
      ]
     },
     "metadata": {
      "needs_background": "light"
     },
     "output_type": "display_data"
    }
   ],
   "source": [
    "date = data.index[-252:]\n",
    "\n",
    "plt.figure(figsize = (14, 8))\n",
    "\n",
    "plt.plot(date, y_test, label = \"True\")\n",
    "plt.plot(date, pred, label = \"Prediction\")\n",
    "plt.legend(loc = \"upper left\")\n",
    "\n",
    "plt.show()"
   ]
  }
 ],
 "metadata": {
  "interpreter": {
   "hash": "5129930097a52138fdc5ab816b09a2f27e944ad02f83c97d5e0e22f93f3b8c3c"
  },
  "kernelspec": {
   "display_name": "Python 3.9.12 64-bit (windows store)",
   "language": "python",
   "name": "python3"
  },
  "language_info": {
   "codemirror_mode": {
    "name": "ipython",
    "version": 3
   },
   "file_extension": ".py",
   "mimetype": "text/x-python",
   "name": "python",
   "nbconvert_exporter": "python",
   "pygments_lexer": "ipython3",
   "version": "3.9.12"
  },
  "orig_nbformat": 4
 },
 "nbformat": 4,
 "nbformat_minor": 2
}
