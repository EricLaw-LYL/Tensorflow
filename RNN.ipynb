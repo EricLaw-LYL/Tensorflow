{
 "cells": [
  {
   "cell_type": "markdown",
   "metadata": {},
   "source": [
    "# Import Packages"
   ]
  },
  {
   "cell_type": "code",
   "execution_count": 1,
   "metadata": {},
   "outputs": [],
   "source": [
    "import tensorflow as tf\n",
    "from tensorflow import keras\n",
    "from tensorflow.keras import *\n",
    "\n",
    "import os\n",
    "# ignoring infomation from tensorflow\n",
    "os.environ[\"TF_CPP_MIN_LOG_LEVEL\"] = \"2\""
   ]
  },
  {
   "cell_type": "markdown",
   "metadata": {},
   "source": [
    "# Load MNIST Dataset\n",
    "Normalize the dataset but not to reshape it"
   ]
  },
  {
   "cell_type": "code",
   "execution_count": 2,
   "metadata": {},
   "outputs": [],
   "source": [
    "from tensorflow.keras.datasets import mnist\n",
    "\n",
    "(x_train, y_train), (x_test, y_test) = mnist.load_data()\n",
    "x_train = x_train.astype(\"float32\") / 255.0\n",
    "x_test = x_test.astype(\"float32\") / 255.0"
   ]
  },
  {
   "cell_type": "markdown",
   "metadata": {},
   "source": [
    "# RNN Using Sequential"
   ]
  },
  {
   "cell_type": "code",
   "execution_count": 8,
   "metadata": {},
   "outputs": [
    {
     "name": "stdout",
     "output_type": "stream",
     "text": [
      "Model: \"sequential_4\"\n",
      "_________________________________________________________________\n",
      " Layer (type)                Output Shape              Param #   \n",
      "=================================================================\n",
      " simple_rnn_9 (SimpleRNN)    (None, None, 256)         72960     \n",
      "                                                                 \n",
      " simple_rnn_10 (SimpleRNN)   (None, 256)               131328    \n",
      "                                                                 \n",
      " dense_4 (Dense)             (None, 10)                2570      \n",
      "                                                                 \n",
      "=================================================================\n",
      "Total params: 206,858\n",
      "Trainable params: 206,858\n",
      "Non-trainable params: 0\n",
      "_________________________________________________________________\n",
      "None\n",
      "Epoch 1/2\n",
      "938/938 [==============================] - 76s 78ms/step - loss: 0.3006 - accuracy: 0.9083\n",
      "Epoch 2/2\n",
      "938/938 [==============================] - 81s 86ms/step - loss: 0.1871 - accuracy: 0.9465\n",
      "Model evaluation:\n",
      "157/157 [==============================] - 6s 28ms/step - loss: 0.2036 - accuracy: 0.9412\n"
     ]
    },
    {
     "data": {
      "text/plain": [
       "[0.2035682052373886, 0.9412000179290771]"
      ]
     },
     "execution_count": 8,
     "metadata": {},
     "output_type": "execute_result"
    }
   ],
   "source": [
    "model = Sequential(\n",
    "    [\n",
    "        Input(shape = (None, 28)), # None means not specify the dimension\n",
    "        layers.SimpleRNN(256, return_sequences = True, activation = \"tanh\"), \n",
    "        layers.SimpleRNN(256, activation = \"tanh\"), \n",
    "        layers.Dense(10, activation = \"softmax\"), \n",
    "    ]\n",
    ")\n",
    "\n",
    "print(model.summary())\n",
    "\n",
    "model.compile(\n",
    "    loss = losses.SparseCategoricalCrossentropy(from_logits = False), \n",
    "    optimizer = optimizers.Adam(lr = 0.001), \n",
    "    metrics = [\"accuracy\"], \n",
    ")\n",
    "\n",
    "model.fit(x_train, y_train, batch_size = 64, epochs = 2, verbose = 1)\n",
    "\n",
    "print(\"Model evaluation:\")\n",
    "model.evaluate(x_test, y_test, batch_size = 64, verbose = 1)"
   ]
  },
  {
   "cell_type": "markdown",
   "metadata": {},
   "source": [
    "# GRU"
   ]
  },
  {
   "cell_type": "code",
   "execution_count": 10,
   "metadata": {},
   "outputs": [
    {
     "name": "stdout",
     "output_type": "stream",
     "text": [
      "Model: \"sequential_6\"\n",
      "_________________________________________________________________\n",
      " Layer (type)                Output Shape              Param #   \n",
      "=================================================================\n",
      " gru_2 (GRU)                 (None, None, 256)         219648    \n",
      "                                                                 \n",
      " gru_3 (GRU)                 (None, 256)               394752    \n",
      "                                                                 \n",
      " dense_6 (Dense)             (None, 10)                2570      \n",
      "                                                                 \n",
      "=================================================================\n",
      "Total params: 616,970\n",
      "Trainable params: 616,970\n",
      "Non-trainable params: 0\n",
      "_________________________________________________________________\n",
      "None\n"
     ]
    }
   ],
   "source": [
    "model = Sequential(\n",
    "    [\n",
    "        Input(shape = (None, 28)), # None means not specify the dimension\n",
    "        layers.GRU(256, return_sequences = True, activation = \"tanh\"), \n",
    "        layers.GRU(256, activation = \"tanh\"), \n",
    "        layers.Dense(10, activation = \"softmax\"), \n",
    "    ]\n",
    ")\n",
    "\n",
    "print(model.summary())\n",
    "\n",
    "model.compile(\n",
    "    loss = losses.SparseCategoricalCrossentropy(from_logits = False), \n",
    "    optimizer = optimizers.Adam(lr = 0.001), \n",
    "    metrics = [\"accuracy\"], \n",
    ")\n",
    "\n",
    "model.fit(x_train, y_train, batch_size = 64, epochs = 2, verbose = 1)\n",
    "\n",
    "print(\"Model evaluation:\")\n",
    "model.evaluate(x_test, y_test, batch_size = 64, verbose = 1)"
   ]
  },
  {
   "cell_type": "markdown",
   "metadata": {},
   "source": [
    "# LSTM"
   ]
  },
  {
   "cell_type": "code",
   "execution_count": 3,
   "metadata": {},
   "outputs": [
    {
     "name": "stdout",
     "output_type": "stream",
     "text": [
      "Model: \"sequential\"\n",
      "_________________________________________________________________\n",
      " Layer (type)                Output Shape              Param #   \n",
      "=================================================================\n",
      " lstm (LSTM)                 (None, None, 256)         291840    \n",
      "                                                                 \n",
      " lstm_1 (LSTM)               (None, 256)               525312    \n",
      "                                                                 \n",
      " dense (Dense)               (None, 10)                2570      \n",
      "                                                                 \n",
      "=================================================================\n",
      "Total params: 819,722\n",
      "Trainable params: 819,722\n",
      "Non-trainable params: 0\n",
      "_________________________________________________________________\n",
      "None\n"
     ]
    }
   ],
   "source": [
    "model = Sequential(\n",
    "    [\n",
    "        Input(shape = (None, 28)), # None means not specify the dimension\n",
    "        layers.LSTM(256, return_sequences = True, activation = \"tanh\"), \n",
    "        layers.LSTM(256, activation = \"tanh\"), \n",
    "        layers.Dense(10, activation = \"softmax\"), \n",
    "    ]\n",
    ")\n",
    "\n",
    "print(model.summary())\n",
    "\n",
    "model.compile(\n",
    "    loss = losses.SparseCategoricalCrossentropy(from_logits = False), \n",
    "    optimizer = optimizers.Adam(lr = 0.001), \n",
    "    metrics = [\"accuracy\"], \n",
    ")\n",
    "\n",
    "model.fit(x_train, y_train, batch_size = 64, epochs = 2, verbose = 1)\n",
    "\n",
    "print(\"Model evaluation:\")\n",
    "model.evaluate(x_test, y_test, batch_size = 64, verbose = 1)"
   ]
  },
  {
   "cell_type": "markdown",
   "metadata": {},
   "source": [
    "# Bi-directional LSTM"
   ]
  },
  {
   "cell_type": "code",
   "execution_count": 6,
   "metadata": {},
   "outputs": [
    {
     "name": "stdout",
     "output_type": "stream",
     "text": [
      "Model: \"sequential_2\"\n",
      "_________________________________________________________________\n",
      " Layer (type)                Output Shape              Param #   \n",
      "=================================================================\n",
      " bidirectional_3 (Bidirectio  (None, None, 512)        583680    \n",
      " nal)                                                            \n",
      "                                                                 \n",
      " bidirectional_4 (Bidirectio  (None, 512)              1574912   \n",
      " nal)                                                            \n",
      "                                                                 \n",
      " dense_2 (Dense)             (None, 10)                5130      \n",
      "                                                                 \n",
      "=================================================================\n",
      "Total params: 2,163,722\n",
      "Trainable params: 2,163,722\n",
      "Non-trainable params: 0\n",
      "_________________________________________________________________\n",
      "None\n"
     ]
    }
   ],
   "source": [
    "model = Sequential(\n",
    "    [\n",
    "        Input(shape = (None, 28)), # None means not specify the dimension\n",
    "        layers.Bidirectional(\n",
    "            layers.LSTM(256, return_sequences = True, activation = \"tanh\")\n",
    "        ), \n",
    "        layers.Bidirectional(\n",
    "            layers.LSTM(256, activation = \"tanh\")\n",
    "        ), \n",
    "        layers.Dense(10, activation = \"softmax\"), \n",
    "    ]\n",
    ")\n",
    "\n",
    "print(model.summary())\n",
    "\n",
    "model.compile(\n",
    "    loss = losses.SparseCategoricalCrossentropy(from_logits = False), \n",
    "    optimizer = optimizers.Adam(lr = 0.001), \n",
    "    metrics = [\"accuracy\"], \n",
    ")\n",
    "\n",
    "model.fit(x_train, y_train, batch_size = 64, epochs = 2, verbose = 1)\n",
    "\n",
    "print(\"Model evaluation:\")\n",
    "model.evaluate(x_test, y_test, batch_size = 64, verbose = 1)"
   ]
  }
 ],
 "metadata": {
  "interpreter": {
   "hash": "f77dbea144dbf12a4aaf4f7749a08bcbe92e498346ff259bf8ae10fb61fcce6e"
  },
  "kernelspec": {
   "display_name": "Python 3.9.7 64-bit ('tf_cpu': conda)",
   "language": "python",
   "name": "python3"
  },
  "language_info": {
   "codemirror_mode": {
    "name": "ipython",
    "version": 3
   },
   "file_extension": ".py",
   "mimetype": "text/x-python",
   "name": "python",
   "nbconvert_exporter": "python",
   "pygments_lexer": "ipython3",
   "version": "3.9.7"
  },
  "orig_nbformat": 4
 },
 "nbformat": 4,
 "nbformat_minor": 2
}
